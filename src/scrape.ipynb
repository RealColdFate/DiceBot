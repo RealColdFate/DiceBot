{
 "cells": [
  {
   "cell_type": "code",
   "execution_count": 1,
   "metadata": {
    "collapsed": true
   },
   "outputs": [],
   "source": [
    "import requests as rq\n",
    "from bs4 import BeautifulSoup\n",
    "\n"
   ]
  },
  {
   "cell_type": "code",
   "execution_count": 2,
   "outputs": [],
   "source": [
    "# formats the list into two halves\n",
    "def format_name_list(name_list: list):\n",
    "    half_one = name_list[0:len(name_list) // 2]\n",
    "    half_two = name_list[len(name_list) // 2::]\n",
    "    out_one = out_two = ''\n",
    "    for i in range(len(half_one)):\n",
    "        out_one += f'{i + 1}. {half_one[i]}\\n'\n",
    "    for i in range(len(half_two)):\n",
    "        out_two += f'{i + len(name_list) // 2 + 1}. {half_two[i]}\\n'\n",
    "    return out_one, out_two\n",
    "\n",
    "\n",
    "def get_list_list(data):\n",
    "    if len(data) == 0:\n",
    "        return 'None'\n",
    "    out_str = ''\n",
    "    for i in data:\n",
    "        out_str += i + '\\n'\n",
    "    return out_str\n",
    "\n",
    "\n",
    "def get_cleaned_spell_data(data):\n",
    "    for i in range(len(data)):\n",
    "        data[i] = data[i].replace('\\n', '')\n",
    "        j = 0\n",
    "        while data[i][j] == ' ':\n",
    "            data[i] = data[i][j + 1::]\n",
    "            j += 1\n",
    "    return data\n",
    "\n",
    "\n",
    "def get_cleaned_spell_description(data):\n",
    "    data = data.replace('\\n', '').replace('\\r', '')\n",
    "    i = 0\n",
    "    while data[i] == ' ':\n",
    "        data = data[i + 1::]\n",
    "    return data\n",
    "\n",
    "\n",
    "def get_cleaned_spell_classes(data):\n",
    "    classes = []\n",
    "    for i in data.findAll('a'):\n",
    "        classes.append(i.text)\n",
    "    return classes\n",
    "\n",
    "\n",
    "def retrieve_spell_from_url(url):\n",
    "    page_contents = rq.get(url)\n",
    "    soup = BeautifulSoup(page_contents.text, 'html.parser')\n",
    "    parts = []\n",
    "\n",
    "    for el in soup.findAll('div', attrs={'class': 'col-md-12'}):\n",
    "        for p in el.findAll('p'):\n",
    "            parts.append(p)\n",
    "\n",
    "    if len(parts) > 6:\n",
    "        return parts[0].text, get_cleaned_spell_classes(parts[5]), get_cleaned_spell_data(\n",
    "            parts[1].text.split('\\r')[1::]), get_cleaned_spell_description(\n",
    "            parts[2].text), get_cleaned_spell_description(parts[3].text), get_cleaned_spell_description(parts[4].text)\n",
    "    return parts[0].text, get_cleaned_spell_classes(parts[4]), get_cleaned_spell_data(\n",
    "        parts[1].text.split('\\r')[1::]), get_cleaned_spell_description(\n",
    "        parts[2].text), 'None', get_cleaned_spell_description(parts[3].text)\n",
    "\n",
    "\n",
    "def process_spell_name(name_input_list):\n",
    "    name_input_list = name_input_list.lower().replace(\"'\", '').split(' ')\n",
    "    if len(name_input_list) == 1:\n",
    "        return name_input_list[0]\n",
    "    out_str = ''\n",
    "    name_input_list = [i.lower() for i in name_input_list]\n",
    "    for i in range(len(name_input_list)):\n",
    "        out_str += name_input_list[i]\n",
    "        if i != len(name_input_list) - 1:\n",
    "            out_str += '-'\n",
    "    return out_str\n"
   ],
   "metadata": {
    "collapsed": false,
    "pycharm": {
     "name": "#%%\n"
    }
   }
  },
  {
   "cell_type": "code",
   "execution_count": 3,
   "outputs": [
    {
     "name": "stdout",
     "output_type": "stream",
     "text": [
      "<p>Transmutation</p>\n",
      "<p>\r\n",
      "                Level: <strong> 5</strong> <br/>\r\n",
      "                Casting time: <strong>1 Action</strong> <br/>\r\n",
      "                Range: <strong>120 feet</strong> <br/>\r\n",
      "                Components: <strong>V, S</strong> <br/>\r\n",
      "                Duration: <strong>Concentration, up to 1 minute</strong> <br/>\n",
      "<hr/>\n",
      "</p>\n",
      "<p>\r\n",
      "                Objects come to life at your command. <br/>\r\n",
      "Choose up to ten nonmagical objects within range that are not being worn or carried. Medium targets count as two objects, Large targets count as four objects, Huge targets count as eight objects. You can’t animate any object larger than Huge. Each target animates and becomes a creature under your control until the spell ends or until reduced to 0 hit points. <br/>\n",
      "<br/>\r\n",
      "As a bonus action, you can mentally command any creature you made with this spell if the creature is within 500 feet of you (if you control multiple creatures, you can command any or all of them at the same time, issuing the same command to each one). You decide what action the creature will take and where it will move during its next turn, or you can issue a general command, such as to guard a particular chamber or corridor. If you issue no commands, the creature only defends itself against hostile creatures. Once given an order, the creature continues to follow it until its task is complete. <br/>\n",
      "<br/>\r\n",
      "Animated Object Statistics <br/>\r\n",
      "Tiny – HP: 20, AC: 18, Attack: +8 to hit, 1d4 + 4 damage, Str: 4, Dex: 18 <br/>\r\n",
      "Small – HP: 25, AC: 16, Attack: +6 to hit, 1d8 + 2 damage, Str: 6, Dex: 14 <br/>\r\n",
      "Medium – HP: 40, AC: 13, Attack: +5 to hit, 2d6 + 1 damage, Str: 10, Dex: 12 <br/>\r\n",
      "Large – HP: 50, AC: 10, Attack: +6 to hit, 2d10 + 2 damage, Str: 14, Dex: 10 <br/>\r\n",
      "Huge – HP: 80, AC: 10, Attack: +8 to hit, 2d12 + 4 damage, Str: 18, Dex: 6 <br/>\n",
      "<br/>\r\n",
      "An animated object is a construct with AC, hit points, attacks, Strength, and Dexterity determine by its size. Its Constitution is 10 and its Intelligence and Wisdom are 3, and its Charisma is 1. Its speed is 30 feet; if the objects lack legs or other appendages it can use for locomotion, it instead has a flying speed of 30 feet and can hover. If the object is securely attached to a surface or larger object, such as a chain bolted to a wall, its speed is 0. It has blindsight with a radius of 30 feet and is blind beyond that distance. When the animated object drops to 0 hit points, it reverts to its original object form, and any remaining damage carries over to its original object form. <br/>\n",
      "<br/>\r\n",
      "If you command an object to attack, it can make a single melee attack against a creature within 5 feet of it. It makes a slam attack with an attack bonus and bludgeoning damage determine by its size. The DM might rule that a specific object inflicts slashing or piercing damage based on its form.\r\n",
      "            </p>\n",
      "<p>\r\n",
      "                    If you cast this spell using a spell slot of 6th level or higher, you can animate two additional objects for each slot level above 5th.\r\n",
      "                </p>\n",
      "<p>\r\n",
      "                Page: 213  Players Handbook             </p>\n",
      "<p>\r\n",
      "                A\r\n",
      "                                <a href=\"https://www.dnd-spells.com/spells/class/Bard\">Bard</a>,\r\n",
      "                                <a href=\"https://www.dnd-spells.com/spells/class/Sorcerer\">Sorcerer</a>,\r\n",
      "                                <a href=\"https://www.dnd-spells.com/spells/class/Wizard\">Wizard</a>,\r\n",
      "                                spell\r\n",
      "            </p>\n",
      "<p>\n",
      "<a class=\"btn-system btn-large\" href=\"/auth/register\">\n",
      "<i class=\"fa fa-exclamation\"></i> Create and save your own spellbooks, sign up now!</a>\n",
      "</p>\n"
     ]
    }
   ],
   "source": [
    "#url = 'https://www.dnd-spells.com/spell/abi-dalzims-horrid-wilting'\n",
    "url = 'https://www.dnd-spells.com/spell/animate-objects'\n",
    "parts = []\n",
    "\n",
    "page_contents = rq.get(url)\n",
    "soup = BeautifulSoup(page_contents.text, 'html.parser')\n",
    "\n",
    "for el in soup.findAll('div', attrs={'class': 'col-md-12'}):\n",
    "    for p in el.findAll('p'):\n",
    "        print(p)\n",
    "        parts.append(p)"
   ],
   "metadata": {
    "collapsed": false,
    "pycharm": {
     "name": "#%%\n"
    }
   }
  },
  {
   "cell_type": "code",
   "execution_count": 4,
   "outputs": [
    {
     "name": "stdout",
     "output_type": "stream",
     "text": [
      "[' Level:  5 ', ' Casting time: 1 Action ', ' Range: 120 feet ', ' Components: V, S ', ' Duration: Concentration, up to 1 minute ']\n",
      "Transmutation\n",
      "[]\n",
      "If you cast this spell using a spell slot of 6th level or higher, you can animate two additional objects for each slot level above 5th.                \n",
      "Objects come to life at your command. Choose up to ten nonmagical objects within range that are not being worn or carried. Medium targets count as two objects, Large targets count as four objects, Huge targets count as eight objects. You can’t animate any object larger than Huge. Each target animates and becomes a creature under your control until the spell ends or until reduced to 0 hit points. As a bonus action, you can mentally command any creature you made with this spell if the creature is within 500 feet of you (if you control multiple creatures, you can command any or all of them at the same time, issuing the same command to each one). You decide what action the creature will take and where it will move during its next turn, or you can issue a general command, such as to guard a particular chamber or corridor. If you issue no commands, the creature only defends itself against hostile creatures. Once given an order, the creature continues to follow it until its task is complete. Animated Object Statistics Tiny – HP: 20, AC: 18, Attack: +8 to hit, 1d4 + 4 damage, Str: 4, Dex: 18 Small – HP: 25, AC: 16, Attack: +6 to hit, 1d8 + 2 damage, Str: 6, Dex: 14 Medium – HP: 40, AC: 13, Attack: +5 to hit, 2d6 + 1 damage, Str: 10, Dex: 12 Large – HP: 50, AC: 10, Attack: +6 to hit, 2d10 + 2 damage, Str: 14, Dex: 10 Huge – HP: 80, AC: 10, Attack: +8 to hit, 2d12 + 4 damage, Str: 18, Dex: 6 An animated object is a construct with AC, hit points, attacks, Strength, and Dexterity determine by its size. Its Constitution is 10 and its Intelligence and Wisdom are 3, and its Charisma is 1. Its speed is 30 feet; if the objects lack legs or other appendages it can use for locomotion, it instead has a flying speed of 30 feet and can hover. If the object is securely attached to a surface or larger object, such as a chain bolted to a wall, its speed is 0. It has blindsight with a radius of 30 feet and is blind beyond that distance. When the animated object drops to 0 hit points, it reverts to its original object form, and any remaining damage carries over to its original object form. If you command an object to attack, it can make a single melee attack against a creature within 5 feet of it. It makes a slam attack with an attack bonus and bludgeoning damage determine by its size. The DM might rule that a specific object inflicts slashing or piercing damage based on its form.            \n"
     ]
    }
   ],
   "source": [
    "spell_school = parts[0].text\n",
    "spell_data = get_cleaned_spell_data(parts[1].text.split('\\r')[1::])\n",
    "spell_description = get_cleaned_spell_description(parts[2].text)\n",
    "spell_lookup_location = get_cleaned_spell_description(parts[3].text)\n",
    "spell_available_classes = get_cleaned_spell_classes(parts[4])\n",
    "print(spell_data)\n",
    "print(spell_school)\n",
    "print(spell_available_classes)\n",
    "print(spell_lookup_location)\n",
    "print(spell_description)\n"
   ],
   "metadata": {
    "collapsed": false,
    "pycharm": {
     "name": "#%%\n"
    }
   }
  }
 ],
 "metadata": {
  "kernelspec": {
   "display_name": "Python 3",
   "language": "python",
   "name": "python3"
  },
  "language_info": {
   "codemirror_mode": {
    "name": "ipython",
    "version": 2
   },
   "file_extension": ".py",
   "mimetype": "text/x-python",
   "name": "python",
   "nbconvert_exporter": "python",
   "pygments_lexer": "ipython2",
   "version": "2.7.6"
  }
 },
 "nbformat": 4,
 "nbformat_minor": 0
}